{
 "cells": [
  {
   "attachments": {},
   "cell_type": "markdown",
   "metadata": {},
   "source": [
    "Let's take the following vehicle to our prediction:"
   ]
  },
  {
   "cell_type": "code",
   "execution_count": 4,
   "metadata": {},
   "outputs": [
    {
     "name": "stdout",
     "output_type": "stream",
     "text": [
      "{'Churn': False, 'Probability': 0.13884355127811432}\n"
     ]
    }
   ],
   "source": [
    "import requests\n",
    "\n",
    "customer = {\n",
    "    'CreditScore': 600, \n",
    "    'Geography': 'Spain',\n",
    "    'Gender': 'Male', \n",
    "    'Age': 54, \n",
    "    'Tenure': 3, \n",
    "    'NumOfProducts': 2, \n",
    "    'IsActiveMember': 1, \n",
    "}\n",
    "\n",
    "url = 'http://localhost:9696/predict'\n",
    "response = requests.post(url, json=customer)\n",
    "result = response.json()\n",
    "print(result)"
   ]
  }
 ],
 "metadata": {
  "kernelspec": {
   "display_name": "capstone_project-Ys-DFq6H",
   "language": "python",
   "name": "python3"
  },
  "language_info": {
   "codemirror_mode": {
    "name": "ipython",
    "version": 3
   },
   "file_extension": ".py",
   "mimetype": "text/x-python",
   "name": "python",
   "nbconvert_exporter": "python",
   "pygments_lexer": "ipython3",
   "version": "3.10.9"
  },
  "orig_nbformat": 4,
  "vscode": {
   "interpreter": {
    "hash": "24f4ee2d91dc606fd83c23ee06a1f9c5fc744ff27b5947411c37cc84ec0a44d9"
   }
  }
 },
 "nbformat": 4,
 "nbformat_minor": 2
}
